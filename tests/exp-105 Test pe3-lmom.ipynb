{
 "cells": [
  {
   "cell_type": "markdown",
   "id": "599aa504",
   "metadata": {},
   "source": [
    "# exp-105 Test pe3-lmom"
   ]
  },
  {
   "cell_type": "code",
   "execution_count": 1,
   "id": "4a8a0ea7",
   "metadata": {},
   "outputs": [],
   "source": [
    "import numpy as np\n",
    "import scipy.special as ss\n",
    "import lmoments3 as lm\n",
    "from lmoments3 import distr\n",
    "import rvlib as rl\n",
    "from rvlib import Gamma\n",
    "from utils import unif_rand, draw_bs_sample, quastn\n",
    "from gam_dist import gam_rl_ppf_pval\n",
    "\n",
    "from pe3_dist import pe3_lmom_fit, pe3_ppf,  pe3_rvs, pe3_bs_reps_ci \n",
    "\n",
    "import matplotlib.pyplot as plt\n",
    "%matplotlib inline"
   ]
  },
  {
   "cell_type": "code",
   "execution_count": 2,
   "id": "cb81b675",
   "metadata": {},
   "outputs": [],
   "source": [
    "data = [2.0, 3.0, 4.0, 2.4, 5.5, 1.2, 5.4, 2.2, 7.1, 1.3, 1.5, 12.1, 9.8, 15.3, 25, 112, 23, 54, 56, 75, 11, 33]\n",
    "avis  = np.array([2, 3, 5, 10, 15, 20, 50, 100, 200, 300, 500, 1000, 10000])\n",
    "probs = 1.0 - 1.0/avis"
   ]
  },
  {
   "cell_type": "code",
   "execution_count": null,
   "id": "9e9517ae",
   "metadata": {},
   "outputs": [],
   "source": []
  },
  {
   "cell_type": "code",
   "execution_count": 6,
   "id": "9cc47a47",
   "metadata": {},
   "outputs": [
    {
     "name": "stdout",
     "output_type": "stream",
     "text": [
      "389 ms ± 9.48 ms per loop (mean ± std. dev. of 7 runs, 1 loop each)\n"
     ]
    }
   ],
   "source": [
    "%%timeit\n",
    "xgam_para = distr.pe3.lmom_fit(data)\n",
    "#print(xgam_para)\n",
    "\n",
    "gum_fitted = distr.pe3(**xgam_para)\n",
    "gum_fitted.ppf(probs)\n",
    "pe3_bs_reps_ci(np.array(data), probs, size=10000)"
   ]
  },
  {
   "cell_type": "code",
   "execution_count": 7,
   "id": "162dcb7b",
   "metadata": {},
   "outputs": [
    {
     "name": "stdout",
     "output_type": "stream",
     "text": [
      "369 ms ± 3.16 ms per loop (mean ± std. dev. of 7 runs, 1 loop each)\n"
     ]
    }
   ],
   "source": [
    "%%timeit\n",
    "gam_loc, gam_scale, gam_skew = pe3_lmom_fit(np.array(data))\n",
    "#print(gam_loc, gam_scale, gam_skew)\n",
    "\n",
    "pe3_ppf(probs, gam_loc, gam_scale, gam_skew)\n",
    "pe3_bs_reps_ci(np.array(data), probs, size=10000)"
   ]
  },
  {
   "cell_type": "code",
   "execution_count": 5,
   "id": "173074b5",
   "metadata": {
    "scrolled": true
   },
   "outputs": [],
   "source": [
    "##timeit\n"
   ]
  },
  {
   "cell_type": "code",
   "execution_count": null,
   "id": "cd929b1d",
   "metadata": {},
   "outputs": [],
   "source": []
  }
 ],
 "metadata": {
  "kernelspec": {
   "display_name": "Python 3 (ipykernel)",
   "language": "python",
   "name": "python3"
  },
  "language_info": {
   "codemirror_mode": {
    "name": "ipython",
    "version": 3
   },
   "file_extension": ".py",
   "mimetype": "text/x-python",
   "name": "python",
   "nbconvert_exporter": "python",
   "pygments_lexer": "ipython3",
   "version": "3.8.12"
  }
 },
 "nbformat": 4,
 "nbformat_minor": 5
}
