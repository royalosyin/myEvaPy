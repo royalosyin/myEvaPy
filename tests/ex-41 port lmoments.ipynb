{
 "cells": [
  {
   "cell_type": "markdown",
   "id": "7675dac9",
   "metadata": {},
   "source": [
    "# ex-41 port lmoments "
   ]
  },
  {
   "cell_type": "code",
   "execution_count": 1,
   "id": "8967b330",
   "metadata": {},
   "outputs": [],
   "source": [
    "import numpy as np\n",
    "import scipy.special as sp\n",
    "from numba import njit\n",
    "import lmoments3 as lm3\n",
    "from lmoments3 import distr\n",
    "from typing import List\n",
    "from scipy.stats import genextreme"
   ]
  },
  {
   "cell_type": "code",
   "execution_count": 2,
   "id": "5f0162a1",
   "metadata": {},
   "outputs": [],
   "source": [
    "c   = -0.1\n",
    "loc = 0.5\n",
    "\n",
    "r  = genextreme.rvs(c, size=1000)\n",
    "r2 = genextreme.rvs(0, size=1000)"
   ]
  },
  {
   "cell_type": "code",
   "execution_count": 17,
   "id": "d7654336",
   "metadata": {},
   "outputs": [],
   "source": [
    "@njit\n",
    "def comb(N, k, exact=1):\n",
    "    if exact:\n",
    "        if (k > N) or (N < 0) or (k < 0):\n",
    "            return 0\n",
    "        val = 1\n",
    "        for j in np.arange(min(k, N-k)):\n",
    "            val = (val*(N-j))//(j+1)\n",
    "        return val\n",
    "\n",
    "    \n",
    "@njit\n",
    "def samlmu(x, nmom=5):\n",
    "    x = sorted(x)\n",
    "    n = len(x)   \n",
    "    ##Calculate first order, pretty efficient, no loops\n",
    "    coefl1 = 1.0/comb(n,1)\n",
    "    suml1 = sum(x)\n",
    "    l1 = coefl1*suml1\n",
    "\n",
    "    ##Calculate Second order\n",
    "\n",
    "    #comb terms appear elsewhere, this will decrease calc time\n",
    "    #for nmom > 2, and shouldn't decrease time for nmom == 2\n",
    "    #comb1 = comb(i-1,1)\n",
    "    #comb2 = comb(n-i,1)\n",
    "    comb1 = []\n",
    "    comb2 = []\n",
    "    for i in range(1,n+1):\n",
    "        comb1.append(comb(i-1,1))\n",
    "        comb2.append(comb(n-i,1))\n",
    "    \n",
    "    coefl2 = 0.5 * 1.0/comb(n,2)\n",
    "    xtrans = []\n",
    "    for i in range(1, n+1):\n",
    "        coeftemp = comb1[i-1]-comb2[i-1]\n",
    "        xtrans.append(coeftemp*x[i-1])\n",
    "    \n",
    "    l2 = coefl2 * sum(xtrans)\n",
    "\n",
    "    ##Calculate Third order\n",
    "    #comb terms appear elsewhere, this will decrease calc time\n",
    "    #for nmom > 2, and shouldn't decrease time for nmom == 2\n",
    "    #comb3 = comb(i-1,2)\n",
    "    #comb4 = comb(n-i,2)\n",
    "    comb3 = []\n",
    "    comb4 = []\n",
    "    for i in range(1, n+1):\n",
    "        comb3.append(comb(i-1,2))\n",
    "        comb4.append(comb(n-i,2))\n",
    "    \n",
    "    coefl3 = 1.0/3 * 1.0/comb(n,3)\n",
    "    xtrans = []\n",
    "    for i in range(1, n+1):\n",
    "        coeftemp = (comb3[i-1]-\n",
    "                    2*comb1[i-1]*comb2[i-1] +\n",
    "                    comb4[i-1])\n",
    "        xtrans.append(coeftemp*x[i-1])\n",
    "\n",
    "    l3 = coefl3 *sum(xtrans) /l2\n",
    "\n",
    "    ##Calculate Fourth order\n",
    "    #comb5 = comb(i-1,3)\n",
    "    #comb6 = comb(n-i,3)\n",
    "    comb5 = []\n",
    "    comb6 = []\n",
    "    for i in range(1,n+1):\n",
    "        comb5.append(comb(i-1,3))\n",
    "        comb6.append(comb(n-i,3))\n",
    "    \n",
    "    coefl4 = 1.0/4 * 1.0/comb(n,4)\n",
    "    xtrans = []\n",
    "    for i in range(1, n+1):\n",
    "        coeftemp = (comb5[i-1]-\n",
    "                    3*comb3[i-1]*comb2[i-1] +\n",
    "                    3*comb1[i-1]*comb4[i-1] -\n",
    "                    comb6[i-1])\n",
    "        xtrans.append(coeftemp*x[i-1])\n",
    "\n",
    "    l4 = coefl4 *sum(xtrans)/l2\n",
    "\n",
    "    ##Calculate Fifth order\n",
    "    coefl5 = 1.0/5 * 1.0/comb(n,5)\n",
    "    xtrans = []\n",
    "    for i in range(1, n+1):\n",
    "        coeftemp = (comb(i-1,4)-\n",
    "                    4*comb5[i-1]*comb2[i-1] +\n",
    "                    6*comb3[i-1]*comb4[i-1] -\n",
    "                    4*comb1[i-1]*comb6[i-1] +\n",
    "                    comb(n-i,4))\n",
    "        xtrans.append(coeftemp*x[i-1])\n",
    "\n",
    "    l5 = coefl5 *sum(xtrans)/l2\n",
    "\n",
    "    # return 5 moments\n",
    "    ret = np.array([l1, l2, l3, l4, l5])\n",
    "    return ret\n",
    "\n",
    "\n",
    "@njit\n",
    "def pelgum(xmom):\n",
    "    eu = 0.577215664901532861\n",
    "    if xmom[1] <= 0:        \n",
    "        return None\n",
    "    else:\n",
    "        para2 = xmom[1] / np.log(2)\n",
    "        para1 = xmom[0] - eu*para2\n",
    "        para = np.array([para1, para2])\n",
    "        return para\n",
    "    \n",
    "\n",
    "@njit   \n",
    "def quagum(prob: np.array, para):\n",
    "    u = para[0]\n",
    "    a = para[1]\n",
    "    #prob = np.array(prob)\n",
    "   \n",
    "    val = u - a * np.log(-np.log(prob))\n",
    "    return val"
   ]
  },
  {
   "cell_type": "markdown",
   "id": "e60315ce",
   "metadata": {},
   "source": [
    "print(comb(25., 2))\n",
    "sp.comb(25, 2)"
   ]
  },
  {
   "cell_type": "markdown",
   "id": "cbe59969",
   "metadata": {},
   "source": [
    "%%time\n",
    "samlmu(r, 5)"
   ]
  },
  {
   "cell_type": "markdown",
   "id": "ac2f94d5",
   "metadata": {},
   "source": [
    "%%time\n",
    "lm3.lmom_ratios(r, 5)"
   ]
  },
  {
   "cell_type": "code",
   "execution_count": 18,
   "id": "c715c5c0",
   "metadata": {},
   "outputs": [
    {
     "data": {
      "text/plain": [
       "array([0.57874939, 0.69587498, 0.15926436, 0.15212441, 0.05720893])"
      ]
     },
     "execution_count": 18,
     "metadata": {},
     "output_type": "execute_result"
    }
   ],
   "source": [
    "momx = samlmu(r2, 5)\n",
    "momx"
   ]
  },
  {
   "cell_type": "code",
   "execution_count": 19,
   "id": "c3b25341",
   "metadata": {},
   "outputs": [],
   "source": [
    "probs = [0.5, 0.8, 0.9, 0.95, 0.98, 0.99, 0.995, 0.9999]"
   ]
  },
  {
   "cell_type": "code",
   "execution_count": 25,
   "id": "0732a1fc",
   "metadata": {},
   "outputs": [
    {
     "name": "stdout",
     "output_type": "stream",
     "text": [
      "2.47 µs ± 46.7 ns per loop (mean ± std. dev. of 7 runs, 100000 loops each)\n"
     ]
    }
   ],
   "source": [
    "para_gum = pelgum(momx)\n",
    "%timeit quagum(np.array(probs), para_gum)"
   ]
  },
  {
   "cell_type": "code",
   "execution_count": 26,
   "id": "9cf95fc7",
   "metadata": {},
   "outputs": [
    {
     "name": "stdout",
     "output_type": "stream",
     "text": [
      "84.4 µs ± 287 ns per loop (mean ± std. dev. of 7 runs, 10000 loops each)\n"
     ]
    }
   ],
   "source": [
    "para_ = distr.gum.lmom_fit(r2)\n",
    "model = distr.gum(**para_)\n",
    "%timeit model.ppf(probs)"
   ]
  },
  {
   "cell_type": "code",
   "execution_count": null,
   "id": "2fc6284c",
   "metadata": {},
   "outputs": [],
   "source": []
  }
 ],
 "metadata": {
  "kernelspec": {
   "display_name": "Python 3 (ipykernel)",
   "language": "python",
   "name": "python3"
  },
  "language_info": {
   "codemirror_mode": {
    "name": "ipython",
    "version": 3
   },
   "file_extension": ".py",
   "mimetype": "text/x-python",
   "name": "python",
   "nbconvert_exporter": "python",
   "pygments_lexer": "ipython3",
   "version": "3.8.12"
  }
 },
 "nbformat": 4,
 "nbformat_minor": 5
}
