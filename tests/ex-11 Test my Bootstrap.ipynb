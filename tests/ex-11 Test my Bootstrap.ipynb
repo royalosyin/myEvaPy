{
 "cells": [
  {
   "cell_type": "markdown",
   "id": "0e3a2cda",
   "metadata": {},
   "source": [
    "# ex-11 Test my Bootstrap"
   ]
  },
  {
   "cell_type": "code",
   "execution_count": 1,
   "id": "d4b09dce",
   "metadata": {},
   "outputs": [],
   "source": [
    "import numpy as np\n",
    "from scipy.stats import genextreme\n",
    "from myGEVFit import draw_bs_sample, draw_bs_reps_ci, gev_ppf, gev_lmom_fit"
   ]
  },
  {
   "cell_type": "code",
   "execution_count": 2,
   "id": "f7aeb7b3",
   "metadata": {},
   "outputs": [],
   "source": [
    "c = -0.1\n",
    "probs = np.array([0.5, 0.9, 0.95, 0.98, 0.99, 0.999])\n",
    "data = genextreme.rvs(c, size=1000)*1.0 + 100"
   ]
  },
  {
   "cell_type": "code",
   "execution_count": 3,
   "id": "5a39bb48",
   "metadata": {},
   "outputs": [
    {
     "data": {
      "text/plain": [
       "array([100.40069311, 102.56978842, 103.54194856, 104.93633159,\n",
       "       106.09207997, 110.70766582])"
      ]
     },
     "execution_count": 3,
     "metadata": {},
     "output_type": "execute_result"
    }
   ],
   "source": [
    "gev_ppf(probs, *gev_lmom_fit(data.copy()))"
   ]
  },
  {
   "cell_type": "markdown",
   "id": "b4ca9cca",
   "metadata": {},
   "source": [
    "draw_bs_sample(data)"
   ]
  },
  {
   "cell_type": "markdown",
   "id": "885c5d3a",
   "metadata": {},
   "source": [
    "draw_bs_sample(data)"
   ]
  },
  {
   "cell_type": "code",
   "execution_count": 6,
   "id": "71ad4fd8",
   "metadata": {},
   "outputs": [],
   "source": [
    "np.random.seed(1234567890)"
   ]
  },
  {
   "cell_type": "code",
   "execution_count": 12,
   "id": "7aed20c1",
   "metadata": {},
   "outputs": [
    {
     "name": "stdout",
     "output_type": "stream",
     "text": [
      "183 ms ± 1.95 ms per loop (mean ± std. dev. of 7 runs, 10 loops each)\n"
     ]
    }
   ],
   "source": [
    "%%timeit\n",
    "draw_bs_reps_ci(data, probs, size=500)"
   ]
  },
  {
   "cell_type": "code",
   "execution_count": null,
   "id": "3b02bd18",
   "metadata": {},
   "outputs": [],
   "source": []
  }
 ],
 "metadata": {
  "kernelspec": {
   "display_name": "Python 3 (ipykernel)",
   "language": "python",
   "name": "python3"
  },
  "language_info": {
   "codemirror_mode": {
    "name": "ipython",
    "version": 3
   },
   "file_extension": ".py",
   "mimetype": "text/x-python",
   "name": "python",
   "nbconvert_exporter": "python",
   "pygments_lexer": "ipython3",
   "version": "3.8.10"
  }
 },
 "nbformat": 4,
 "nbformat_minor": 5
}
