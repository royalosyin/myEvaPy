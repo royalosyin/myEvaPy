{
 "cells": [
  {
   "cell_type": "markdown",
   "id": "6ad60be9",
   "metadata": {},
   "source": [
    "# ex-09 Test myGamma"
   ]
  },
  {
   "cell_type": "code",
   "execution_count": 14,
   "id": "09875d91",
   "metadata": {},
   "outputs": [],
   "source": [
    "import numpy as np\n",
    "import scipy.stats as stats    \n",
    "from rvlib import Gamma\n",
    "from scipy.special import psi, polygamma\n",
    "from scipy.stats import gamma\n",
    "\n",
    "from myGamma import cal_digamma, cal_trigamma\n",
    "from myGamma import fit_gamma_mle, gfunc_fit_gamma\n",
    "\n",
    "from gam_dist import gam_lmom_fit"
   ]
  },
  {
   "cell_type": "markdown",
   "id": "ef83fae2",
   "metadata": {},
   "source": [
    "## digamma"
   ]
  },
  {
   "cell_type": "markdown",
   "id": "4a4aaf91",
   "metadata": {},
   "source": [
    "psi(0.5)"
   ]
  },
  {
   "cell_type": "markdown",
   "id": "03e5a922",
   "metadata": {},
   "source": [
    "cal_digamma(0.5)"
   ]
  },
  {
   "cell_type": "markdown",
   "id": "85c8865a",
   "metadata": {},
   "source": [
    "## trigamma"
   ]
  },
  {
   "cell_type": "markdown",
   "id": "7106757a",
   "metadata": {},
   "source": [
    "polygamma(1, 0.5)"
   ]
  },
  {
   "cell_type": "markdown",
   "id": "fd910cfd",
   "metadata": {},
   "source": [
    "# 1.64493406684822663 [known] x=1\n",
    "cal_trigamma(0.5)"
   ]
  },
  {
   "cell_type": "markdown",
   "id": "309f5d65",
   "metadata": {},
   "source": [
    "## Fit gamma"
   ]
  },
  {
   "cell_type": "code",
   "execution_count": 15,
   "id": "dc6646cc",
   "metadata": {},
   "outputs": [],
   "source": [
    "alpha = 3\n",
    "beta = 22\n",
    "data = stats.gamma.rvs(alpha, scale=beta, size=10000)   \n",
    "#data[0] = -1"
   ]
  },
  {
   "cell_type": "code",
   "execution_count": 26,
   "id": "0c7f7b12",
   "metadata": {},
   "outputs": [
    {
     "name": "stdout",
     "output_type": "stream",
     "text": [
      "115 µs ± 1.37 µs per loop (mean ± std. dev. of 7 runs, 10000 loops each)\n"
     ]
    }
   ],
   "source": [
    "%%timeit \n",
    "fit_alpha, fit_beta = gam_lmom_fit(data) #, np.nan, 1000, 0.0001\n",
    "#print('\\nAlpha:', fit_alpha, '\\nBeta:', fit_beta)"
   ]
  },
  {
   "cell_type": "code",
   "execution_count": 27,
   "id": "846c68fc",
   "metadata": {},
   "outputs": [
    {
     "name": "stdout",
     "output_type": "stream",
     "text": [
      "135 µs ± 1.46 µs per loop (mean ± std. dev. of 7 runs, 10000 loops each)\n"
     ]
    }
   ],
   "source": [
    "%%timeit \n",
    "fit_alpha, fit_beta = fit_gamma_mle(data) #, np.nan, 1000, 0.0001\n",
    "#print('\\nAlpha:', fit_alpha, '\\nBeta:', fit_beta)"
   ]
  },
  {
   "cell_type": "code",
   "execution_count": 28,
   "id": "2ea1c8ce",
   "metadata": {},
   "outputs": [
    {
     "name": "stdout",
     "output_type": "stream",
     "text": [
      "119 µs ± 619 ns per loop (mean ± std. dev. of 7 runs, 10000 loops each)\n"
     ]
    }
   ],
   "source": [
    "%%timeit\n",
    "fit_alpha, fit_loc, fit_beta=stats.gamma.fit(data, floc=0)\n",
    "#print('\\nAlpha:', fit_alpha, '\\nBeta:', fit_beta)"
   ]
  },
  {
   "cell_type": "code",
   "execution_count": null,
   "id": "e90dfa36",
   "metadata": {},
   "outputs": [],
   "source": []
  },
  {
   "cell_type": "code",
   "execution_count": 9,
   "id": "bb66b931",
   "metadata": {},
   "outputs": [
    {
     "data": {
      "text/plain": [
       "array([ 2.94392807, 22.3745163 ])"
      ]
     },
     "execution_count": 9,
     "metadata": {},
     "output_type": "execute_result"
    }
   ],
   "source": [
    "dummy_arr = np.array([0, 0])\n",
    "gfunc_fit_gamma(data, dummy_arr)"
   ]
  },
  {
   "cell_type": "markdown",
   "id": "ab991ae8",
   "metadata": {},
   "source": [
    "## Check quantiles"
   ]
  },
  {
   "cell_type": "code",
   "execution_count": 10,
   "id": "fd90ad4a",
   "metadata": {},
   "outputs": [],
   "source": [
    "N_gamma = Gamma(fit_alpha, fit_beta)"
   ]
  },
  {
   "cell_type": "code",
   "execution_count": 11,
   "id": "e91792a9",
   "metadata": {},
   "outputs": [
    {
     "name": "stdout",
     "output_type": "stream",
     "text": [
      "Wall time: 315 ms\n"
     ]
    }
   ],
   "source": [
    "%%time\n",
    "quantsx = N_gamma.quantile(np.arange(0.001, 1, 0.0001))"
   ]
  },
  {
   "cell_type": "code",
   "execution_count": 12,
   "id": "2e002c64",
   "metadata": {},
   "outputs": [
    {
     "data": {
      "text/plain": [
       "array([  4.02168106,   4.16049155,   4.29160434, ..., 280.57302348,\n",
       "       291.12723986, 309.04221817])"
      ]
     },
     "execution_count": 12,
     "metadata": {},
     "output_type": "execute_result"
    }
   ],
   "source": [
    "quantsx"
   ]
  },
  {
   "cell_type": "code",
   "execution_count": 13,
   "id": "4a1dd2b3",
   "metadata": {},
   "outputs": [
    {
     "name": "stdout",
     "output_type": "stream",
     "text": [
      "Wall time: 9 ms\n"
     ]
    },
    {
     "data": {
      "text/plain": [
       "array([  4.02168148,   4.16049198,   4.29160478, ..., 280.57303606,\n",
       "       291.12725284, 309.04223182])"
      ]
     },
     "execution_count": 13,
     "metadata": {},
     "output_type": "execute_result"
    }
   ],
   "source": [
    "%%time\n",
    "gamma.ppf(np.arange(0.001, 1, 0.0001), fit_alpha, fit_loc, fit_beta)"
   ]
  },
  {
   "cell_type": "code",
   "execution_count": null,
   "id": "e4e4d2bc",
   "metadata": {},
   "outputs": [],
   "source": []
  }
 ],
 "metadata": {
  "kernelspec": {
   "display_name": "Python 3 (ipykernel)",
   "language": "python",
   "name": "python3"
  },
  "language_info": {
   "codemirror_mode": {
    "name": "ipython",
    "version": 3
   },
   "file_extension": ".py",
   "mimetype": "text/x-python",
   "name": "python",
   "nbconvert_exporter": "python",
   "pygments_lexer": "ipython3",
   "version": "3.8.12"
  }
 },
 "nbformat": 4,
 "nbformat_minor": 5
}
