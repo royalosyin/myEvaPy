{
 "cells": [
  {
   "cell_type": "markdown",
   "id": "ed0cf35e",
   "metadata": {},
   "source": [
    "# exp-104 Incomplete Gamma - Lower"
   ]
  },
  {
   "cell_type": "code",
   "execution_count": 11,
   "id": "ea92af63",
   "metadata": {},
   "outputs": [],
   "source": [
    "import numpy as np\n",
    "from numba import njit\n",
    "from scipy import special as ssp\n",
    "from utils import gammain, gammainc_l\n"
   ]
  },
  {
   "cell_type": "code",
   "execution_count": 16,
   "id": "821fd087",
   "metadata": {},
   "outputs": [],
   "source": [
    "from deprecated import deprecated\n",
    "\n",
    "@deprecated(reason=\"ldkfljdf\")\n",
    "def some_old_function(x, y):\n",
    "    return x + y"
   ]
  },
  {
   "cell_type": "code",
   "execution_count": 17,
   "id": "a4269287",
   "metadata": {},
   "outputs": [
    {
     "data": {
      "text/plain": [
       "21.0"
      ]
     },
     "execution_count": 17,
     "metadata": {},
     "output_type": "execute_result"
    }
   ],
   "source": [
    "some_old_function(10, 11.)"
   ]
  },
  {
   "cell_type": "code",
   "execution_count": 2,
   "id": "81e74573",
   "metadata": {},
   "outputs": [],
   "source": [
    "alpha = 1.2090998961525499\n",
    "x = 10.197047977454034"
   ]
  },
  {
   "cell_type": "code",
   "execution_count": 3,
   "id": "31322f62",
   "metadata": {},
   "outputs": [
    {
     "data": {
      "text/plain": [
       "0.9999999980899652"
      ]
     },
     "execution_count": 3,
     "metadata": {},
     "output_type": "execute_result"
    }
   ],
   "source": [
    "#%%timeit\n",
    "gammainc_l( x, alpha)"
   ]
  },
  {
   "cell_type": "code",
   "execution_count": 4,
   "id": "6607b96a",
   "metadata": {},
   "outputs": [
    {
     "data": {
      "text/plain": [
       "0.9999325813055467"
      ]
     },
     "execution_count": 4,
     "metadata": {},
     "output_type": "execute_result"
    }
   ],
   "source": [
    "#%%timeit\n",
    "ssp.gammainc(alpha, x)"
   ]
  },
  {
   "cell_type": "code",
   "execution_count": 5,
   "id": "1f636656",
   "metadata": {},
   "outputs": [
    {
     "data": {
      "text/plain": [
       "0.9999325813058012"
      ]
     },
     "execution_count": 5,
     "metadata": {},
     "output_type": "execute_result"
    }
   ],
   "source": [
    "#%%timeit\n",
    "gammain(x, alpha)"
   ]
  },
  {
   "cell_type": "code",
   "execution_count": null,
   "id": "50097bf2",
   "metadata": {},
   "outputs": [],
   "source": []
  }
 ],
 "metadata": {
  "kernelspec": {
   "display_name": "Python 3 (ipykernel)",
   "language": "python",
   "name": "python3"
  },
  "language_info": {
   "codemirror_mode": {
    "name": "ipython",
    "version": 3
   },
   "file_extension": ".py",
   "mimetype": "text/x-python",
   "name": "python",
   "nbconvert_exporter": "python",
   "pygments_lexer": "ipython3",
   "version": "3.8.12"
  }
 },
 "nbformat": 4,
 "nbformat_minor": 5
}
