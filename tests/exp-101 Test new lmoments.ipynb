{
 "cells": [
  {
   "cell_type": "markdown",
   "id": "9f82bbeb",
   "metadata": {},
   "source": [
    "# exp-101 Test new lmoments"
   ]
  },
  {
   "cell_type": "code",
   "execution_count": 1,
   "id": "9d5edc24",
   "metadata": {},
   "outputs": [],
   "source": [
    "import numpy as np\n",
    "import lmoments3 as lm\n",
    "from lmoments3 import distr\n",
    "import rvlib as rl\n",
    "from utils import unif_rand, draw_bs_sample\n",
    "\n",
    "from sam_lm import lmom_ratios\n",
    "from gum_dist import gum_lmom_fit, gum_ppf_pval, gum_rvs, gum_ppf, gum_bs_reps_ci\n",
    "\n",
    "from gev_dist import gev_lmom_fit, gev_ppf_pval, gev_rvs, gev_ppf, gev_bs_reps_ci\n",
    "\n",
    "import matplotlib.pyplot as plt\n",
    "%matplotlib inline"
   ]
  },
  {
   "cell_type": "code",
   "execution_count": 2,
   "id": "8bc1a538",
   "metadata": {},
   "outputs": [],
   "source": [
    "data = [2.0, 3.0, 4.0, 2.4, 5.5, 1.2, 5.4, 2.2, 7.1, 1.3, 1.5, 12.1, 9.8, 15.3]"
   ]
  },
  {
   "cell_type": "code",
   "execution_count": 3,
   "id": "ddebd17d",
   "metadata": {},
   "outputs": [],
   "source": [
    "avis  = np.array([2, 3, 5, 10, 15, 20, 50, 100, 200, 300, 500, 1000, 10000])\n",
    "probs = 1.0 - 1.0/avis"
   ]
  },
  {
   "cell_type": "markdown",
   "id": "90e2ebfc",
   "metadata": {},
   "source": [
    "draw_bs_sample(data)"
   ]
  },
  {
   "cell_type": "markdown",
   "id": "9dc5f048",
   "metadata": {},
   "source": [
    "## lmom_ratios"
   ]
  },
  {
   "cell_type": "markdown",
   "id": "b59ba7e8",
   "metadata": {},
   "source": [
    "#%%timeit\n",
    "lm.lmom_ratios(data, nmom=5)"
   ]
  },
  {
   "cell_type": "markdown",
   "id": "f543b108",
   "metadata": {
    "scrolled": true
   },
   "source": [
    "#%%timeit\n",
    "lmom_ratios(np.array(data), nmom=5)"
   ]
  },
  {
   "cell_type": "markdown",
   "id": "7422fc95",
   "metadata": {},
   "source": [
    "lmom_ratios_depricated(np.array(data), nmom=5)"
   ]
  },
  {
   "cell_type": "markdown",
   "id": "9e737734",
   "metadata": {},
   "source": [
    "## Gumble fit"
   ]
  },
  {
   "cell_type": "code",
   "execution_count": 4,
   "id": "970a2920",
   "metadata": {},
   "outputs": [
    {
     "data": {
      "text/plain": [
       "array([ 4.46677399,  6.33272649,  8.41099507, 11.02241263, 12.49575235,\n",
       "       13.52734705, 16.76972771, 19.19943574, 21.62027818, 23.03416919,\n",
       "       24.8141201 , 27.22795014, 35.24229942])"
      ]
     },
     "execution_count": 4,
     "metadata": {},
     "output_type": "execute_result"
    }
   ],
   "source": [
    "#%%timeit\n",
    "gum_loc, gum_scale =  gum_lmom_fit(np.array(data))\n",
    "gum_ppf(probs, gum_loc, gum_scale)"
   ]
  },
  {
   "cell_type": "code",
   "execution_count": 5,
   "id": "550313f5",
   "metadata": {},
   "outputs": [
    {
     "data": {
      "text/plain": [
       "array([ 4.46677399,  6.33272649,  8.41099507, 11.02241263, 12.49575235,\n",
       "       13.52734705, 16.76972771, 19.19943574, 21.62027818, 23.03416919,\n",
       "       24.8141201 , 27.22795014, 35.24229942])"
      ]
     },
     "execution_count": 5,
     "metadata": {},
     "output_type": "execute_result"
    }
   ],
   "source": [
    "#%%timeit\n",
    "xgum_para = distr.gum.lmom_fit(data)\n",
    "gum_fitted = distr.gum(**xgum_para)\n",
    "gum_fitted.ppf(probs)"
   ]
  },
  {
   "cell_type": "code",
   "execution_count": 6,
   "id": "cadbe291",
   "metadata": {},
   "outputs": [
    {
     "data": {
      "text/plain": [
       "array([ 4.09401501e+00,  5.73924527e+00,  4.46978830e+00,  1.28504982e+01,\n",
       "        1.09248563e+01,  7.78122306e+00,  2.99293348e+00, -2.10201490e+00,\n",
       "        9.45084618e+00,  1.75835530e+00,  1.53104957e-02,  3.02046395e+00,\n",
       "        1.04495272e+01,  9.94682905e+00,  8.22285848e+00,  1.20879419e+01,\n",
       "        6.16861689e+00,  2.83985693e+00,  8.32396234e+00, -1.17431779e+00,\n",
       "        2.11611784e+00,  1.07244260e+01, -2.04306617e-01,  2.06570985e+00,\n",
       "        2.34100903e+01,  2.23265458e+00,  1.87956484e+00,  1.39680943e+01,\n",
       "        1.10759296e+00, -3.81710211e-01,  3.80015304e+00,  3.10349957e-01,\n",
       "        2.64431285e+00,  1.77433380e+00,  1.75510239e+00,  7.27924325e+00,\n",
       "        7.22057219e+00,  6.89307915e+00, -1.33964886e-01,  2.33156528e+00,\n",
       "        6.91824974e+00,  4.99285033e+00,  3.56268476e+00, -2.93733766e-01,\n",
       "        3.16290140e+00,  5.26265494e+00, -1.92020488e+00,  1.54108844e+00,\n",
       "        7.43197880e+00,  5.65168374e+00,  6.26938892e+00,  9.02981697e+00,\n",
       "        4.12761121e+00, -1.81225187e+00,  7.52092460e+00,  8.24474996e+00,\n",
       "        1.23497618e+00,  2.03985643e+00,  1.07560679e+01,  4.42701977e+00,\n",
       "        7.36193629e+00,  9.31002733e+00,  1.05826797e+00,  3.37905429e+00,\n",
       "        8.47074888e+00,  5.43228490e+00,  5.40179367e+00,  2.22627511e+00,\n",
       "       -1.38305918e+00, -4.14272339e-01,  3.57116077e+00,  2.76663505e+00,\n",
       "        7.99927459e-01,  3.53715824e+00, -2.93320586e+00,  5.56925488e+00,\n",
       "        7.22715228e+00, -2.17987475e+00,  6.71584495e+00,  3.91605854e+00,\n",
       "        7.48904120e-01,  8.82725859e+00,  2.46919523e+00, -1.15048122e+00,\n",
       "        9.85569279e+00,  2.39305940e+00,  1.18275332e+01,  5.29073470e+00,\n",
       "        2.84009865e+00,  6.34866914e+00,  7.62933195e+00,  4.78274068e+00,\n",
       "        5.21893121e+00,  2.03405403e+00,  1.68036607e+00,  2.28271255e+00,\n",
       "        2.83534315e+00,  6.06165515e+00,  8.16027825e+00,  4.74726086e+00])"
      ]
     },
     "execution_count": 6,
     "metadata": {},
     "output_type": "execute_result"
    }
   ],
   "source": [
    "gum_fitted.rvs(100)"
   ]
  },
  {
   "cell_type": "code",
   "execution_count": 7,
   "id": "23092709",
   "metadata": {},
   "outputs": [
    {
     "data": {
      "text/plain": [
       "array([[ 2.72922042,  5.22290243],\n",
       "       [ 3.53116938,  6.83312108],\n",
       "       [ 4.53250287,  8.69551505],\n",
       "       [ 5.87062523, 11.27954621],\n",
       "       [ 6.63498314, 12.77834791],\n",
       "       [ 7.17016695, 13.82636823],\n",
       "       [ 8.67487773, 16.9829209 ],\n",
       "       [ 9.79553213, 19.39096445],\n",
       "       [10.91209746, 21.74716967],\n",
       "       [11.58093674, 23.05675803],\n",
       "       [12.43071181, 24.70540208],\n",
       "       [13.54819415, 26.94116405],\n",
       "       [17.25843624, 34.46350318]])"
      ]
     },
     "execution_count": 7,
     "metadata": {},
     "output_type": "execute_result"
    }
   ],
   "source": [
    "#%%timeit\n",
    "rl.set_seed(123, 123)\n",
    "gum_bs_reps_ci(np.array(data), probs, alpha=0.1, size=100)"
   ]
  },
  {
   "cell_type": "markdown",
   "id": "4d27ae9d",
   "metadata": {},
   "source": [
    "## Gev fit"
   ]
  },
  {
   "cell_type": "code",
   "execution_count": 8,
   "id": "3a896fc3",
   "metadata": {},
   "outputs": [
    {
     "data": {
      "text/plain": [
       "array([  3.75411355,   5.33042265,   7.40372276,  10.5798583 ,\n",
       "        12.70511466,  14.35811677,  20.59518951,  26.52148273,\n",
       "        33.76372134,  38.72893202,  45.8816783 ,  57.46377937,\n",
       "       118.14703654])"
      ]
     },
     "execution_count": 8,
     "metadata": {},
     "output_type": "execute_result"
    }
   ],
   "source": [
    "#%%timeit\n",
    "xx_para = distr.gev.lmom_fit(data)\n",
    "fitted = distr.gev(**xx_para)\n",
    "fitted.ppf(probs)"
   ]
  },
  {
   "cell_type": "code",
   "execution_count": 9,
   "id": "fb5370ef",
   "metadata": {},
   "outputs": [
    {
     "data": {
      "text/plain": [
       "array([  3.75411355,   5.33042265,   7.40372276,  10.5798583 ,\n",
       "        12.70511466,  14.35811676,  20.5951895 ,  26.52148273,\n",
       "        33.76372133,  38.72893201,  45.88167829,  57.46377937,\n",
       "       118.14703653])"
      ]
     },
     "execution_count": 9,
     "metadata": {},
     "output_type": "execute_result"
    }
   ],
   "source": [
    "#%%timeit\n",
    "gev_u, gev_loc, gev_scale = gev_lmom_fit(np.array(data))\n",
    "gev_ppf(probs, gev_u,  gev_loc,  gev_scale)"
   ]
  },
  {
   "cell_type": "code",
   "execution_count": 10,
   "id": "d14b8ccf",
   "metadata": {},
   "outputs": [
    {
     "data": {
      "text/plain": [
       "array([[  2.2644546 ,   5.13319422],\n",
       "       [  2.95559272,   6.92031807],\n",
       "       [  3.86094755,   8.90802958],\n",
       "       [  5.49362441,  11.351051  ],\n",
       "       [  6.44111061,  12.87581347],\n",
       "       [  7.13073574,  14.07706015],\n",
       "       [  9.07213417,  18.52818174],\n",
       "       [ 10.41804548,  23.99159387],\n",
       "       [ 11.55995183,  32.09163875],\n",
       "       [ 12.50422006,  38.48377696],\n",
       "       [ 13.38714151,  48.37387024],\n",
       "       [ 14.47693695,  67.53077653],\n",
       "       [ 16.88037542, 203.57225214]])"
      ]
     },
     "execution_count": 10,
     "metadata": {},
     "output_type": "execute_result"
    }
   ],
   "source": [
    "#%%timeit\n",
    "rl.set_seed(123, 123)\n",
    "gev_bs_reps_ci(np.array(data), probs, alpha=0.1, size=500)"
   ]
  },
  {
   "cell_type": "markdown",
   "id": "7a03a1a4",
   "metadata": {},
   "source": [
    "## RVS"
   ]
  },
  {
   "cell_type": "markdown",
   "id": "d023da18",
   "metadata": {},
   "source": [
    "np.round(draw_bs_sample(data), 3)"
   ]
  },
  {
   "cell_type": "markdown",
   "id": "0f4ef8fb",
   "metadata": {},
   "source": [
    "idxs = np.round(unif_rand(0, len(data), size=len(data))).astype(int)\n",
    "size = len(data)\n",
    "out_array = np.empty((size))\n",
    "\n",
    "idxs = unif_rand(0, size-1, size=size).astype(np.int_)\n",
    "for idx in np.arange(size):\n",
    "    out_array[idx] = data[idxs[idx]]\n",
    "    \n",
    "out_array"
   ]
  },
  {
   "cell_type": "code",
   "execution_count": 11,
   "id": "52f0174c",
   "metadata": {},
   "outputs": [
    {
     "data": {
      "text/plain": [
       "<matplotlib.legend.Legend at 0x16d29596ca0>"
      ]
     },
     "execution_count": 11,
     "metadata": {},
     "output_type": "execute_result"
    },
    {
     "data": {
      "image/png": "[encoded data removed]",
      "text/plain": [
       "<Figure size 864x432 with 1 Axes>"
      ]
     },
     "metadata": {
      "needs_background": "light"
     },
     "output_type": "display_data"
    }
   ],
   "source": [
    "#%%timeit \n",
    "rl.set_seed(123, 123)\n",
    "ex_gev = gev_rvs(gev_u, gev_loc, gev_scale, 100)\n",
    "ex_gum = gum_rvs(gum_loc, gum_scale, 100)\n",
    "\n",
    "fig = plt.figure(figsize=(12, 6))\n",
    "ax = fig.subplots(1)\n",
    "ax.plot(np.sort(ex_gum), label='Gum')\n",
    "ax.plot(np.sort(ex_gev), label='Gev')\n",
    "ax.legend()"
   ]
  },
  {
   "cell_type": "code",
   "execution_count": 12,
   "id": "f0127d60",
   "metadata": {},
   "outputs": [
    {
     "data": {
      "text/plain": [
       "[<matplotlib.lines.Line2D at 0x16d2961ce80>]"
      ]
     },
     "execution_count": 12,
     "metadata": {},
     "output_type": "execute_result"
    },
    {
     "data": {
      "image/png": "[encoded data removed]",
      "text/plain": [
       "<Figure size 432x288 with 1 Axes>"
      ]
     },
     "metadata": {
      "needs_background": "light"
     },
     "output_type": "display_data"
    }
   ],
   "source": [
    "plt.plot(np.sort(data))"
   ]
  },
  {
   "cell_type": "code",
   "execution_count": null,
   "id": "6bf379da",
   "metadata": {},
   "outputs": [],
   "source": []
  }
 ],
 "metadata": {
  "kernelspec": {
   "display_name": "Python 3 (ipykernel)",
   "language": "python",
   "name": "python3"
  },
  "language_info": {
   "codemirror_mode": {
    "name": "ipython",
    "version": 3
   },
   "file_extension": ".py",
   "mimetype": "text/x-python",
   "name": "python",
   "nbconvert_exporter": "python",
   "pygments_lexer": "ipython3",
   "version": "3.8.12"
  }
 },
 "nbformat": 4,
 "nbformat_minor": 5
}
