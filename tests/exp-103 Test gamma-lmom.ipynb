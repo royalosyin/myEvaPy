{
 "cells": [
  {
   "cell_type": "markdown",
   "id": "8b9ffcf4",
   "metadata": {},
   "source": [
    "# exp-103 Test gamma-lmom "
   ]
  },
  {
   "cell_type": "code",
   "execution_count": 1,
   "id": "04a80866",
   "metadata": {},
   "outputs": [],
   "source": [
    "import numpy as np\n",
    "import scipy.special as ss\n",
    "import lmoments3 as lm\n",
    "from lmoments3 import distr\n",
    "import rvlib as rl\n",
    "from rvlib import Gamma\n",
    "from utils import unif_rand, draw_bs_sample, quastn, gammaln, gamma, gammainc_l, gammain\n",
    "\n",
    "#from gum_dist import gum_lmom_fit, gum_rvs, gum_ppf, gum_bs_reps_ci\n",
    "from gam_dist import gam_lmom_fit, gam_rvs, gam_ppf, gam_bs_reps_ci, fit_gamma_mle, gam_rl_ppf\n",
    "\n",
    "import matplotlib.pyplot as plt\n",
    "%matplotlib inline"
   ]
  },
  {
   "cell_type": "markdown",
   "id": "86670c84",
   "metadata": {},
   "source": [
    "gamma(0.95)"
   ]
  },
  {
   "cell_type": "markdown",
   "id": "80531e6f",
   "metadata": {},
   "source": [
    "rl.specials.gamma(0.95)"
   ]
  },
  {
   "cell_type": "markdown",
   "id": "b9d3ba10",
   "metadata": {},
   "source": [
    "### gammaln"
   ]
  },
  {
   "cell_type": "markdown",
   "id": "19ca1c9d",
   "metadata": {},
   "source": [
    "gammaln(171)"
   ]
  },
  {
   "cell_type": "markdown",
   "id": "e7ee3dda",
   "metadata": {},
   "source": [
    "ss.gammaln(171)"
   ]
  },
  {
   "cell_type": "markdown",
   "id": "27cf09a9",
   "metadata": {},
   "source": [
    "rl.specials.lgamma(171)"
   ]
  },
  {
   "cell_type": "markdown",
   "id": "ef351e22",
   "metadata": {},
   "source": [
    "### std_norm"
   ]
  },
  {
   "cell_type": "markdown",
   "id": "2ed3a550",
   "metadata": {},
   "source": [
    "stn_norm = rl.Normal(0., 1.0)"
   ]
  },
  {
   "cell_type": "markdown",
   "id": "251b9328",
   "metadata": {},
   "source": [
    "#%%timeit\n",
    "stn_norm.quantile(0.999)"
   ]
  },
  {
   "cell_type": "markdown",
   "id": "2a2b37d6",
   "metadata": {},
   "source": [
    "#%%timeit\n",
    "quastn(0.999)"
   ]
  },
  {
   "cell_type": "markdown",
   "id": "87b43849",
   "metadata": {},
   "source": [
    "### gammainc"
   ]
  },
  {
   "cell_type": "markdown",
   "id": "a3b9bfdc",
   "metadata": {},
   "source": [
    "#%%timeit\n",
    "gamainc(0.75, 0.99)*rl.specials.gamma(0.75)"
   ]
  },
  {
   "cell_type": "markdown",
   "id": "00bc8adb",
   "metadata": {},
   "source": [
    "#%%timeit\n",
    "ss.gammainc(0.75, 0.99)"
   ]
  },
  {
   "cell_type": "markdown",
   "id": "2d224e15",
   "metadata": {},
   "source": [
    "gammain(0.99, 0.75)"
   ]
  },
  {
   "cell_type": "markdown",
   "id": "0c3e4480",
   "metadata": {},
   "source": [
    "### Test data"
   ]
  },
  {
   "cell_type": "code",
   "execution_count": 2,
   "id": "9f8c81a5",
   "metadata": {},
   "outputs": [],
   "source": [
    "data = [2.0, 3.0, 4.0, 2.4, 5.5, 1.2, 5.4, 2.2, 7.1, 1.3, 1.5, 12.1, 9.8, 15.3, 25, 112, 23, 54, 56, 75, 11, 33]\n",
    "avis  = np.array([2, 3, 5, 10, 15, 20, 50, 100, 200, 300, 500, 1000, 10000])\n",
    "probs = 1.0 - 1.0/avis"
   ]
  },
  {
   "cell_type": "markdown",
   "id": "07593150",
   "metadata": {},
   "source": [
    "## fitting paras"
   ]
  },
  {
   "cell_type": "markdown",
   "id": "fd6fa9c8",
   "metadata": {},
   "source": [
    "#%%timeit\n",
    "xgam_para = distr.gam.lmom_fit(data)"
   ]
  },
  {
   "cell_type": "markdown",
   "id": "e5f11122",
   "metadata": {},
   "source": [
    "xgam_para"
   ]
  },
  {
   "cell_type": "markdown",
   "id": "b0890c21",
   "metadata": {},
   "source": [
    "#%%timeit\n",
    "gam_loc, gam_scale =  gam_lmom_fit(np.array(data))"
   ]
  },
  {
   "cell_type": "markdown",
   "id": "26071434",
   "metadata": {},
   "source": [
    "print(gam_loc, gam_scale)"
   ]
  },
  {
   "cell_type": "markdown",
   "id": "ab65c39b",
   "metadata": {},
   "source": [
    "## AVIs"
   ]
  },
  {
   "cell_type": "code",
   "execution_count": 9,
   "id": "6cffc4a1",
   "metadata": {},
   "outputs": [
    {
     "name": "stdout",
     "output_type": "stream",
     "text": [
      "0.4446420510768515 47.20855582613585\n"
     ]
    },
    {
     "data": {
      "text/plain": [
       "array([  8.54074284,  18.71327296,  34.22908517,  58.14175244,\n",
       "        73.11423537,  84.05605665, 120.20786946, 148.51773085,\n",
       "       177.41797027, 194.54091207, 216.30287382, 246.11781019,\n",
       "       346.89043609])"
      ]
     },
     "execution_count": 9,
     "metadata": {},
     "output_type": "execute_result"
    }
   ],
   "source": [
    "#%%timeit\n",
    "gam_loc, gam_scale = gam_lmom_fit(np.array(data))\n",
    "print(gam_loc, gam_scale)\n",
    "Gamma(gam_loc, gam_scale).quantile(probs)"
   ]
  },
  {
   "cell_type": "code",
   "execution_count": 4,
   "id": "033d893f",
   "metadata": {},
   "outputs": [
    {
     "data": {
      "text/plain": [
       "array([  8.54074314,  18.71327329,  34.22908538,  58.1417523 ,\n",
       "        73.11423496,  84.05605603, 120.20786809, 148.51772884,\n",
       "       177.41796759, 194.54090898, 216.30287021, 246.11780585,\n",
       "       346.89042921])"
      ]
     },
     "execution_count": 4,
     "metadata": {},
     "output_type": "execute_result"
    }
   ],
   "source": [
    "#%%timeit\n",
    "xgam_para = distr.gam.lmom_fit(data)\n",
    "gum_fitted = distr.gam(**xgam_para)\n",
    "gum_fitted.ppf(probs)"
   ]
  },
  {
   "cell_type": "code",
   "execution_count": 5,
   "id": "4256dc98",
   "metadata": {},
   "outputs": [
    {
     "data": {
      "text/plain": [
       "array([  8.54074314,  18.7132733 ,  34.22908541,  58.14175299,\n",
       "        73.11423576,  84.05605647, 120.2078685 , 148.51772931,\n",
       "       177.41796792, 194.54090954, 216.30287045, 246.11780622,\n",
       "       346.89042934])"
      ]
     },
     "execution_count": 5,
     "metadata": {},
     "output_type": "execute_result"
    }
   ],
   "source": [
    "#%%timeit\n",
    "gam_loc, gam_scale = gam_lmom_fit(np.array(data))\n",
    "gam_ppf(probs, gam_loc, gam_scale)"
   ]
  },
  {
   "cell_type": "code",
   "execution_count": 14,
   "id": "72e9771f",
   "metadata": {},
   "outputs": [
    {
     "data": {
      "text/plain": [
       "array([  8.54074284,  18.71327296,  34.22908517,  58.14175244,\n",
       "        73.11423537,  84.05605665, 120.20786946, 148.51773085,\n",
       "       177.41797027, 194.54091207, 216.30287382, 246.11781019,\n",
       "       346.89043609])"
      ]
     },
     "execution_count": 14,
     "metadata": {},
     "output_type": "execute_result"
    }
   ],
   "source": [
    "gam_loc, gam_scale = gam_lmom_fit(np.array(data))\n",
    "gam_rl_ppf(probs, gam_loc, gam_scale)"
   ]
  },
  {
   "cell_type": "code",
   "execution_count": 7,
   "id": "9a778087",
   "metadata": {},
   "outputs": [
    {
     "data": {
      "text/plain": [
       "array([[  4.11143164,  16.01720406],\n",
       "       [  9.42878549,  30.16956761],\n",
       "       [ 17.29485022,  50.90532722],\n",
       "       [ 28.42505361,  83.39524335],\n",
       "       [ 34.94918929, 103.96884518],\n",
       "       [ 39.59526066, 119.07857612],\n",
       "       [ 54.50774534, 169.60696056],\n",
       "       [ 66.36394442, 209.43560429],\n",
       "       [ 77.73729945, 250.72421687],\n",
       "       [ 84.17183511, 274.92872347],\n",
       "       [ 92.8124609 , 306.40031087],\n",
       "       [104.6007906 , 348.56914208],\n",
       "       [144.54511758, 493.31604401]])"
      ]
     },
     "execution_count": 7,
     "metadata": {},
     "output_type": "execute_result"
    }
   ],
   "source": [
    "gam_bs_reps_ci(np.array(data), probs, size=1000)"
   ]
  },
  {
   "cell_type": "markdown",
   "id": "d1fa2a58",
   "metadata": {},
   "source": [
    "y_lom = gum_fitted.rvs(100)\n",
    "y_lom.sort()"
   ]
  },
  {
   "cell_type": "code",
   "execution_count": 12,
   "id": "d4898b00",
   "metadata": {},
   "outputs": [
    {
     "name": "stdout",
     "output_type": "stream",
     "text": [
      "0.6958106886993972 30.167557687486955\n"
     ]
    },
    {
     "data": {
      "text/plain": [
       "array([ 12.17352551,  21.68337717,  34.51103382,  52.76536586,\n",
       "        63.73027033,  71.60254156,  97.0552813 , 116.59133218,\n",
       "       136.30183702, 147.89642984, 162.56065009, 182.54478865,\n",
       "       249.45665993])"
      ]
     },
     "execution_count": 12,
     "metadata": {},
     "output_type": "execute_result"
    }
   ],
   "source": [
    "#%%timeit\n",
    "gam_loc, gam_scale = fit_gamma_mle(np.array(data))\n",
    "print(gam_loc, gam_scale)\n",
    "gam_ppf(probs, gam_loc, gam_scale)"
   ]
  },
  {
   "cell_type": "markdown",
   "id": "b71c4996",
   "metadata": {},
   "source": [
    "yy_lonm = gam_rvs( gam_loc, gam_scale, 100)\n",
    "yy_lonm.sort()"
   ]
  },
  {
   "cell_type": "markdown",
   "id": "f430e92b",
   "metadata": {},
   "source": [
    "fig = plt.figure(figsize=(9, 5))\n",
    "plt.plot(y_lom, label='lm3')\n",
    "plt.plot(yy_lonm, label='my')\n",
    "\n",
    "plt.legend()"
   ]
  },
  {
   "cell_type": "code",
   "execution_count": null,
   "id": "c632de3f",
   "metadata": {},
   "outputs": [],
   "source": []
  }
 ],
 "metadata": {
  "kernelspec": {
   "display_name": "Python 3 (ipykernel)",
   "language": "python",
   "name": "python3"
  },
  "language_info": {
   "codemirror_mode": {
    "name": "ipython",
    "version": 3
   },
   "file_extension": ".py",
   "mimetype": "text/x-python",
   "name": "python",
   "nbconvert_exporter": "python",
   "pygments_lexer": "ipython3",
   "version": "3.8.12"
  }
 },
 "nbformat": 4,
 "nbformat_minor": 5
}
