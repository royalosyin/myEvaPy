{
 "cells": [
  {
   "cell_type": "markdown",
   "id": "638d3b00",
   "metadata": {},
   "source": [
    "# ex-31 Fit Gumbel Distribution (slower than lmoments)"
   ]
  },
  {
   "cell_type": "code",
   "execution_count": 1,
   "id": "ee4c9537",
   "metadata": {},
   "outputs": [],
   "source": [
    "import numpy as np\n",
    "import math\n",
    "from numba import njit\n",
    "from lmoments3 import distr\n",
    "import lmoments3 as lm3\n",
    "from scipy.stats import gumbel_r\n",
    "\n",
    "from myGEVFit import lmom_ratios as myloms"
   ]
  },
  {
   "cell_type": "markdown",
   "id": "e68e8067",
   "metadata": {},
   "source": [
    "## Test data"
   ]
  },
  {
   "cell_type": "code",
   "execution_count": 2,
   "id": "5f05bdc7",
   "metadata": {},
   "outputs": [],
   "source": [
    "r = gumbel_r.rvs(loc=0.5, scale=2, size=10000)"
   ]
  },
  {
   "cell_type": "code",
   "execution_count": 31,
   "id": "52852499",
   "metadata": {},
   "outputs": [],
   "source": []
  },
  {
   "cell_type": "code",
   "execution_count": 6,
   "id": "06a79daf",
   "metadata": {},
   "outputs": [],
   "source": [
    "@njit(fastmath=True)\n",
    "def newtonRaphsonOptimizer(gumbel_dist, tolerance=0.000000000000001):\n",
    "    '''\n",
    "    Function to optimize the multivariate equations using newton raphson\n",
    "    '''\n",
    "    s = np.std(gumbel_dist)\n",
    "    m = np.mean(gumbel_dist)\n",
    "\n",
    "    #Setting initial values\n",
    "    a = m - 0.4501 * s\n",
    "    b = 0.7977 * s\n",
    "\n",
    "    while True:\n",
    "        # A Derivative\n",
    "        a_derivate = 1/b * (len(gumbel_dist) - np.sum(np.exp(-(gumbel_dist-a)/b)))\n",
    "               \n",
    "        # B Derivative\n",
    "        b_derivate = np.sum((gumbel_dist - a)/b**2) - len(gumbel_dist)/b \\\n",
    "                     - np.sum(((gumbel_dist - a)/b**2)*np.exp(-(gumbel_dist - a)/b))\n",
    "        \n",
    "        # A Double Derivative\n",
    "        a_derivate2 = -(1/b**2)*np.sum(np.exp((-(gumbel_dist - a)/b)))\n",
    "        \n",
    "        # B Double Derivative\n",
    "        b_derivate2 = len(gumbel_dist)/b**2 \\\n",
    "                      - (2/b**3) * np.sum((gumbel_dist - a)) \\\n",
    "                      + (2/b**3) * np.sum((gumbel_dist - a) * np.exp(-(gumbel_dist - a)/b)) \\\n",
    "                      - (1/b**4) * np.sum(((gumbel_dist - a)**2) * np.exp(-(gumbel_dist - a)/b))\n",
    "        \n",
    "        # AB Derivative\n",
    "        ab_derivate = -(len(gumbel_dist)/b**2) \\\n",
    "                      + (1/b**2) * np.sum(np.exp(-(gumbel_dist - a)/b)) \\\n",
    "                      - (1/b**3) * np.sum((gumbel_dist - a) * np.exp(-(gumbel_dist - a)/b))\n",
    "        \n",
    "        # print(a)\n",
    "        f = np.array([[a_derivate], [b_derivate]], dtype = np.float64)\n",
    "        theta = np.sum(f)\n",
    "        \n",
    "        h = np.array([[a_derivate2, ab_derivate], [ab_derivate, b_derivate2]], dtype = np.float64)\n",
    "        h_inv = np.linalg.pinv(h)\n",
    "        \n",
    "        x_0 = np.array([[a], [b]], dtype=np.float64)\n",
    "        x_1 = x_0 - (h_inv * f) \n",
    "\n",
    "        t = (x_0[0,0] - x_1[0,0]) * (x_0[0,0] - x_1[0,0]) + (x_0[1,0] - x_1[1,0]) * (x_0[1,0] - x_1[1,0])\n",
    "\n",
    "        if t <= tolerance:\n",
    "            break\n",
    "\n",
    "        a = x_1[0,0] \n",
    "        b = x_1[1,0]      \n",
    "\n",
    "    return a, b"
   ]
  },
  {
   "cell_type": "markdown",
   "id": "229d0d68",
   "metadata": {},
   "source": [
    "%%time\n",
    "newtonRaphsonOptimizer(r)"
   ]
  },
  {
   "cell_type": "code",
   "execution_count": 36,
   "id": "cb57e557",
   "metadata": {},
   "outputs": [
    {
     "name": "stdout",
     "output_type": "stream",
     "text": [
      "5.87 ms ± 48.3 µs per loop (mean ± std. dev. of 7 runs, 100 loops each)\n"
     ]
    }
   ],
   "source": [
    "%%timeit \n",
    "lm3.lmom_ratios(r, nmom=2)"
   ]
  },
  {
   "cell_type": "code",
   "execution_count": 41,
   "id": "b3ea6c43",
   "metadata": {},
   "outputs": [
    {
     "name": "stdout",
     "output_type": "stream",
     "text": [
      "Wall time: 3 ms\n"
     ]
    },
    {
     "data": {
      "text/plain": [
       "(0.4651172653002139, 2.0051285822316034)"
      ]
     },
     "execution_count": 41,
     "metadata": {},
     "output_type": "execute_result"
    }
   ],
   "source": [
    "%%time\n",
    "distr.gum.fit(r)"
   ]
  },
  {
   "cell_type": "code",
   "execution_count": 42,
   "id": "eb2f9b8e",
   "metadata": {},
   "outputs": [
    {
     "name": "stdout",
     "output_type": "stream",
     "text": [
      "Wall time: 0 ns\n"
     ]
    },
    {
     "data": {
      "text/plain": [
       "[0.46527760507079163, 2.0047719229850247]"
      ]
     },
     "execution_count": 42,
     "metadata": {},
     "output_type": "execute_result"
    }
   ],
   "source": [
    "%%time\n",
    "gum_lmom_fit(r)"
   ]
  },
  {
   "cell_type": "code",
   "execution_count": null,
   "id": "07c198d5",
   "metadata": {},
   "outputs": [],
   "source": [
    "1.3887205594633298/math.log(2)"
   ]
  },
  {
   "cell_type": "code",
   "execution_count": null,
   "id": "c2055b2b",
   "metadata": {},
   "outputs": [],
   "source": [
    "1.38872056 /math.log(2)"
   ]
  },
  {
   "cell_type": "code",
   "execution_count": null,
   "id": "d4e1d861",
   "metadata": {},
   "outputs": [],
   "source": [
    "distr.gum.lmom_fit(lmom_ratios=lm3.lmom_ratios(r))"
   ]
  },
  {
   "cell_type": "code",
   "execution_count": null,
   "id": "e12f3bad",
   "metadata": {},
   "outputs": [],
   "source": [
    "distr.gum.lmom_fit(lmom_ratios=myloms(r))"
   ]
  },
  {
   "cell_type": "code",
   "execution_count": 28,
   "id": "5acf8cf4",
   "metadata": {},
   "outputs": [
    {
     "name": "stdout",
     "output_type": "stream",
     "text": [
      "3.23 ms ± 67.6 µs per loop (mean ± std. dev. of 7 runs, 100 loops each)\n"
     ]
    }
   ],
   "source": [
    "%%timeit \n",
    "myloms(r)"
   ]
  },
  {
   "cell_type": "code",
   "execution_count": null,
   "id": "9d18dec9",
   "metadata": {},
   "outputs": [],
   "source": []
  }
 ],
 "metadata": {
  "kernelspec": {
   "display_name": "Python 3 (ipykernel)",
   "language": "python",
   "name": "python3"
  },
  "language_info": {
   "codemirror_mode": {
    "name": "ipython",
    "version": 3
   },
   "file_extension": ".py",
   "mimetype": "text/x-python",
   "name": "python",
   "nbconvert_exporter": "python",
   "pygments_lexer": "ipython3",
   "version": "3.8.12"
  }
 },
 "nbformat": 4,
 "nbformat_minor": 5
}
