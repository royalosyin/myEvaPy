{
 "cells": [
  {
   "cell_type": "markdown",
   "id": "e6d0518f",
   "metadata": {},
   "source": [
    "# ex-01 Test rvlib"
   ]
  },
  {
   "cell_type": "code",
   "execution_count": 1,
   "id": "fec096a0",
   "metadata": {},
   "outputs": [],
   "source": [
    "import numpy as np\n",
    "from rvlib import Normal, Gamma\n",
    "from scipy.stats import norm\n",
    "from numba import njit\n",
    "from matplotlib import pyplot as plt"
   ]
  },
  {
   "cell_type": "code",
   "execution_count": 2,
   "id": "dfc51d8a",
   "metadata": {},
   "outputs": [],
   "source": [
    "N_dist = Normal(0,1) # rvlib version\n",
    "N_scipy = norm(0,1) # scipy.stats version\n",
    "\n",
    "x = np.linspace(0,100,100)#.reshape((25,4))"
   ]
  },
  {
   "cell_type": "markdown",
   "id": "faf39384",
   "metadata": {},
   "source": [
    "## Note 1: Gamma doest not suport 1d or 2d parameters\n",
    "## Note 2: Gamm supports paratemeter is np.nan and return np.nan"
   ]
  },
  {
   "cell_type": "markdown",
   "id": "ffa8552f",
   "metadata": {},
   "source": [
    "alphas = x\n",
    "betas = x\n",
    "Gamma(alphas, betas).cdf(betas)"
   ]
  },
  {
   "cell_type": "markdown",
   "id": "da7d455d",
   "metadata": {},
   "source": [
    "***rvlib support numba.njit***"
   ]
  },
  {
   "cell_type": "code",
   "execution_count": 3,
   "id": "9b463f78",
   "metadata": {},
   "outputs": [
    {
     "data": {
      "text/plain": [
       "nan"
      ]
     },
     "execution_count": 3,
     "metadata": {},
     "output_type": "execute_result"
    }
   ],
   "source": [
    "Gamma(1, 2).cdf(np.nan)"
   ]
  },
  {
   "cell_type": "code",
   "execution_count": 4,
   "id": "b56f73fd",
   "metadata": {},
   "outputs": [
    {
     "name": "stdout",
     "output_type": "stream",
     "text": [
      "16.2 µs ± 179 ns per loop (mean ± std. dev. of 7 runs, 100000 loops each)\n"
     ]
    }
   ],
   "source": [
    "%%timeit \n",
    "Normal(0, 1).quantile(Gamma(10, 0.5).pdf(11))"
   ]
  },
  {
   "cell_type": "code",
   "execution_count": 5,
   "id": "8a08dab2",
   "metadata": {},
   "outputs": [],
   "source": [
    "@njit\n",
    "def call_rvlib(arr):\n",
    "    N_dist = Normal(0,1)\n",
    "    return N_dist.pdf(arr)"
   ]
  },
  {
   "cell_type": "code",
   "execution_count": 6,
   "id": "0dd54a26",
   "metadata": {},
   "outputs": [
    {
     "name": "stdout",
     "output_type": "stream",
     "text": [
      "CPU times: user 260 ms, sys: 0 ns, total: 260 ms\n",
      "Wall time: 258 ms\n"
     ]
    },
    {
     "data": {
      "text/plain": [
       "array([3.98942280e-001, 2.39526659e-001, 5.18424154e-002, 4.04486639e-003,\n",
       "       1.13765535e-004, 1.15346608e-006, 4.21586333e-009, 5.55463849e-012,\n",
       "       2.63823001e-015, 4.51707285e-019, 2.78797653e-023, 6.20309902e-028,\n",
       "       4.97526130e-033, 1.43850262e-038, 1.49931539e-044, 5.63330056e-051,\n",
       "       7.62992780e-058, 3.72533656e-065, 6.55689427e-073, 4.16024042e-081,\n",
       "       9.51538264e-090, 7.84551879e-099, 2.33187173e-108, 2.49847627e-118,\n",
       "       9.65013484e-129, 1.34362822e-139, 6.74392031e-151, 1.22020647e-162,\n",
       "       7.95869389e-175, 1.87127605e-187, 1.58606688e-200, 4.84610384e-214,\n",
       "       5.33766749e-228, 2.11932664e-242, 3.03341521e-257, 1.56514076e-272,\n",
       "       2.91113621e-288, 1.95190749e-304, 4.71832692e-321, 0.00000000e+000,\n",
       "       0.00000000e+000, 0.00000000e+000, 0.00000000e+000, 0.00000000e+000,\n",
       "       0.00000000e+000, 0.00000000e+000, 0.00000000e+000, 0.00000000e+000,\n",
       "       0.00000000e+000, 0.00000000e+000, 0.00000000e+000, 0.00000000e+000,\n",
       "       0.00000000e+000, 0.00000000e+000, 0.00000000e+000, 0.00000000e+000,\n",
       "       0.00000000e+000, 0.00000000e+000, 0.00000000e+000, 0.00000000e+000,\n",
       "       0.00000000e+000, 0.00000000e+000, 0.00000000e+000, 0.00000000e+000,\n",
       "       0.00000000e+000, 0.00000000e+000, 0.00000000e+000, 0.00000000e+000,\n",
       "       0.00000000e+000, 0.00000000e+000, 0.00000000e+000, 0.00000000e+000,\n",
       "       0.00000000e+000, 0.00000000e+000, 0.00000000e+000, 0.00000000e+000,\n",
       "       0.00000000e+000, 0.00000000e+000, 0.00000000e+000, 0.00000000e+000,\n",
       "       0.00000000e+000, 0.00000000e+000, 0.00000000e+000, 0.00000000e+000,\n",
       "       0.00000000e+000, 0.00000000e+000, 0.00000000e+000, 0.00000000e+000,\n",
       "       0.00000000e+000, 0.00000000e+000, 0.00000000e+000, 0.00000000e+000,\n",
       "       0.00000000e+000, 0.00000000e+000, 0.00000000e+000, 0.00000000e+000,\n",
       "       0.00000000e+000, 0.00000000e+000, 0.00000000e+000, 0.00000000e+000])"
      ]
     },
     "execution_count": 6,
     "metadata": {},
     "output_type": "execute_result"
    }
   ],
   "source": [
    "%%time\n",
    "call_rvlib(x)"
   ]
  },
  {
   "cell_type": "code",
   "execution_count": 7,
   "id": "0a6d5c35",
   "metadata": {},
   "outputs": [
    {
     "data": {
      "text/plain": [
       "nan"
      ]
     },
     "execution_count": 7,
     "metadata": {},
     "output_type": "execute_result"
    }
   ],
   "source": [
    "call_rvlib(np.nan)"
   ]
  },
  {
   "cell_type": "code",
   "execution_count": 8,
   "id": "36d4507e",
   "metadata": {},
   "outputs": [
    {
     "name": "stdout",
     "output_type": "stream",
     "text": [
      "3.37 µs ± 17.9 ns per loop (mean ± std. dev. of 7 runs, 100000 loops each)\n"
     ]
    }
   ],
   "source": [
    "%%timeit\n",
    "N_dist.pdf(x)"
   ]
  },
  {
   "cell_type": "code",
   "execution_count": 9,
   "id": "d23434c2",
   "metadata": {},
   "outputs": [
    {
     "name": "stdout",
     "output_type": "stream",
     "text": [
      "64.3 µs ± 245 ns per loop (mean ± std. dev. of 7 runs, 10000 loops each)\n"
     ]
    }
   ],
   "source": [
    "%%timeit\n",
    "N_scipy.pdf(x)"
   ]
  },
  {
   "cell_type": "code",
   "execution_count": 10,
   "id": "d4b3d4f5",
   "metadata": {},
   "outputs": [
    {
     "name": "stdout",
     "output_type": "stream",
     "text": [
      "CPU times: user 149 ms, sys: 13 µs, total: 149 ms\n",
      "Wall time: 146 ms\n"
     ]
    }
   ],
   "source": [
    "%%time\n",
    "quants = N_dist.quantile(np.arange(0.001, 1, 0.0001))\n",
    "#quants"
   ]
  },
  {
   "cell_type": "code",
   "execution_count": 11,
   "id": "91e793b7",
   "metadata": {},
   "outputs": [
    {
     "data": {
      "text/plain": [
       "2.3263478740408408"
      ]
     },
     "execution_count": 11,
     "metadata": {},
     "output_type": "execute_result"
    }
   ],
   "source": [
    " N_dist.quantile(0.99)"
   ]
  },
  {
   "cell_type": "code",
   "execution_count": 12,
   "id": "e0ff6637",
   "metadata": {},
   "outputs": [
    {
     "name": "stdout",
     "output_type": "stream",
     "text": [
      "CPU times: user 9.18 ms, sys: 82 µs, total: 9.27 ms\n",
      "Wall time: 6.26 ms\n"
     ]
    }
   ],
   "source": [
    "%%time\n",
    "quantsx = N_scipy.ppf(np.arange(0.001, 1, 0.0001))"
   ]
  },
  {
   "cell_type": "code",
   "execution_count": null,
   "id": "0d7349d6",
   "metadata": {},
   "outputs": [],
   "source": []
  }
 ],
 "metadata": {
  "kernelspec": {
   "display_name": "Python 3 (ipykernel)",
   "language": "python",
   "name": "python3"
  },
  "language_info": {
   "codemirror_mode": {
    "name": "ipython",
    "version": 3
   },
   "file_extension": ".py",
   "mimetype": "text/x-python",
   "name": "python",
   "nbconvert_exporter": "python",
   "pygments_lexer": "ipython3",
   "version": "3.8.10"
  }
 },
 "nbformat": 4,
 "nbformat_minor": 5
}
